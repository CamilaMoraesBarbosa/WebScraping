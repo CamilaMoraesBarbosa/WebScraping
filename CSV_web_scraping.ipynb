{
  "nbformat": 4,
  "nbformat_minor": 0,
  "metadata": {
    "colab": {
      "provenance": [],
      "authorship_tag": "ABX9TyP3E9rxPDu8sXA9UilXnU88",
      "include_colab_link": true
    },
    "kernelspec": {
      "name": "python3",
      "display_name": "Python 3"
    },
    "language_info": {
      "name": "python"
    }
  },
  "cells": [
    {
      "cell_type": "markdown",
      "metadata": {
        "id": "view-in-github",
        "colab_type": "text"
      },
      "source": [
        "<a href=\"https://colab.research.google.com/github/CamilaMoraesBarbosa/WebScraping/blob/main/CSV_web_scraping.ipynb\" target=\"_parent\"><img src=\"https://colab.research.google.com/assets/colab-badge.svg\" alt=\"Open In Colab\"/></a>"
      ]
    },
    {
      "cell_type": "code",
      "execution_count": 10,
      "metadata": {
        "id": "2gaKDVrTAOt9"
      },
      "outputs": [],
      "source": [
        "import requests\n",
        "\n",
        "from bs4 import BeautifulSoup\n",
        "\n",
        "import pandas as pd\n",
        "\n"
      ]
    },
    {
      "cell_type": "code",
      "source": [
        "books = []\n",
        "\n",
        "for i in range(1, 3):\n",
        "  url = f'https://books.toscrape.com/catalogue/page-{i}.html'\n",
        "  response = requests.get(url)\n",
        "  response = response.content\n",
        "  soup = BeautifulSoup(response, 'html.parser')\n",
        "  ol = soup.find('ol')\n",
        "  articles = ol.find_all('article', class_='product_pod')\n",
        "\n",
        "  for article in articles:\n",
        "      image = article.find('img')\n",
        "      title = image.attrs['alt']\n",
        "      star = article.find('p')\n",
        "      star = star['class'][1]\n",
        "      price = article.find('p', class_='price_color').text\n",
        "      price = float(price[1:])\n",
        "      books.append([title, price, star])"
      ],
      "metadata": {
        "colab": {
          "base_uri": "https://localhost:8080/"
        },
        "id": "-k0YXAXCAVQm",
        "outputId": "addfdf29-2e4b-468d-b82a-32ddd26071c5"
      },
      "execution_count": 12,
      "outputs": [
        {
          "output_type": "stream",
          "name": "stdout",
          "text": [
            "[['A Light in the Attic', 51.77, 'Three'], ['Tipping the Velvet', 53.74, 'One'], ['Soumission', 50.1, 'One'], ['Sharp Objects', 47.82, 'Four'], ['Sapiens: A Brief History of Humankind', 54.23, 'Five'], ['The Requiem Red', 22.65, 'One'], ['The Dirty Little Secrets of Getting Your Dream Job', 33.34, 'Four'], ['The Coming Woman: A Novel Based on the Life of the Infamous Feminist, Victoria Woodhull', 17.93, 'Three'], ['The Boys in the Boat: Nine Americans and Their Epic Quest for Gold at the 1936 Berlin Olympics', 22.6, 'Four'], ['The Black Maria', 52.15, 'One'], ['Starving Hearts (Triangular Trade Trilogy, #1)', 13.99, 'Two'], [\"Shakespeare's Sonnets\", 20.66, 'Four'], ['Set Me Free', 17.46, 'Five'], [\"Scott Pilgrim's Precious Little Life (Scott Pilgrim #1)\", 52.29, 'Five'], ['Rip it Up and Start Again', 35.02, 'Five'], ['Our Band Could Be Your Life: Scenes from the American Indie Underground, 1981-1991', 57.25, 'Three'], ['Olio', 23.88, 'One'], ['Mesaerion: The Best Science Fiction Stories 1800-1849', 37.59, 'One'], ['Libertarianism for Beginners', 51.33, 'Two'], [\"It's Only the Himalayas\", 45.17, 'Two']]\n",
            "[['A Light in the Attic', 51.77, 'Three'], ['Tipping the Velvet', 53.74, 'One'], ['Soumission', 50.1, 'One'], ['Sharp Objects', 47.82, 'Four'], ['Sapiens: A Brief History of Humankind', 54.23, 'Five'], ['The Requiem Red', 22.65, 'One'], ['The Dirty Little Secrets of Getting Your Dream Job', 33.34, 'Four'], ['The Coming Woman: A Novel Based on the Life of the Infamous Feminist, Victoria Woodhull', 17.93, 'Three'], ['The Boys in the Boat: Nine Americans and Their Epic Quest for Gold at the 1936 Berlin Olympics', 22.6, 'Four'], ['The Black Maria', 52.15, 'One'], ['Starving Hearts (Triangular Trade Trilogy, #1)', 13.99, 'Two'], [\"Shakespeare's Sonnets\", 20.66, 'Four'], ['Set Me Free', 17.46, 'Five'], [\"Scott Pilgrim's Precious Little Life (Scott Pilgrim #1)\", 52.29, 'Five'], ['Rip it Up and Start Again', 35.02, 'Five'], ['Our Band Could Be Your Life: Scenes from the American Indie Underground, 1981-1991', 57.25, 'Three'], ['Olio', 23.88, 'One'], ['Mesaerion: The Best Science Fiction Stories 1800-1849', 37.59, 'One'], ['Libertarianism for Beginners', 51.33, 'Two'], [\"It's Only the Himalayas\", 45.17, 'Two'], ['In Her Wake', 12.84, 'One'], ['How Music Works', 37.32, 'Two'], ['Foolproof Preserving: A Guide to Small Batch Jams, Jellies, Pickles, Condiments, and More: A Foolproof Guide to Making Small Batch Jams, Jellies, Pickles, Condiments, and More', 30.52, 'Three'], ['Chase Me (Paris Nights #2)', 25.27, 'Five'], ['Black Dust', 34.53, 'Five'], ['Birdsong: A Story in Pictures', 54.64, 'Three'], [\"America's Cradle of Quarterbacks: Western Pennsylvania's Football Factory from Johnny Unitas to Joe Montana\", 22.5, 'Three'], ['Aladdin and His Wonderful Lamp', 53.13, 'Three'], ['Worlds Elsewhere: Journeys Around Shakespeare’s Globe', 40.3, 'Five'], ['Wall and Piece', 44.18, 'Four'], ['The Four Agreements: A Practical Guide to Personal Freedom', 17.66, 'Five'], ['The Five Love Languages: How to Express Heartfelt Commitment to Your Mate', 31.05, 'Three'], ['The Elephant Tree', 23.82, 'Five'], ['The Bear and the Piano', 36.89, 'One'], [\"Sophie's World\", 15.94, 'Five'], ['Penny Maybe', 33.29, 'Three'], ['Maude (1883-1993):She Grew Up with the country', 18.02, 'Two'], ['In a Dark, Dark Wood', 19.63, 'One'], ['Behind Closed Doors', 52.22, 'Four'], [\"You can't bury them all: Poems\", 33.63, 'Two']]\n"
          ]
        }
      ]
    },
    {
      "cell_type": "code",
      "source": [
        "df = pd.DataFrame(books, columns=['Title', 'Price', 'Star Rating'])\n",
        "df.to_csv('books.csv')"
      ],
      "metadata": {
        "id": "JhrEEtYPI1FP"
      },
      "execution_count": 13,
      "outputs": []
    }
  ]
}